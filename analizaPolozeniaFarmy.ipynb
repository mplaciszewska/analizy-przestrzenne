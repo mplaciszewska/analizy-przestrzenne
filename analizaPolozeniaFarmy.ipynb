{
 "cells": [
  {
   "cell_type": "markdown",
   "metadata": {},
   "source": [
    "Import arcpy, ustawienie środowiska projektu"
   ]
  },
  {
   "cell_type": "code",
   "execution_count": 84,
   "metadata": {},
   "outputs": [],
   "source": [
    "import arcpy\n",
    "\n",
    "arcpy.env.workspace = (R\"C:\\Users\\mplaciszewska\\Documents\\ArcGIS\\Projects\\projekt1-analizyp\\projekt1-analizyp.gdp\")\n",
    "arcpy.env.outputCoordinateSystem = arcpy.SpatialReference(\"ETRS 1989 Poland CS92\")\n",
    "arcpy.env.overwriteOutput = True\n",
    "arcpy.env.extent = (R\"C:\\Users\\mplaciszewska\\Documents\\ArcGIS\\Projects\\projekt1-analizyp\\projekt1-analizyp.gdb\\swieradow_zdroj_Buffer\")\n",
    "arcpy.env.mask = (R\"C:\\Users\\mplaciszewska\\Documents\\ArcGIS\\Projects\\projekt1-analizyp\\projekt1-analizyp.gdb\\swieradow_zdroj_Buffer.shp\")\n",
    "arcpy.env.cellSize = (R\"C:\\Users\\mplaciszewska\\Documents\\ArcGIS\\Projects\\projekt1-analizyp\\projekt1-analizyp.gdb\\raster_extracted.tif\")"
   ]
  },
  {
   "cell_type": "markdown",
   "metadata": {},
   "source": [
    "Wczytanie warstw i ich zapis do zmiennych"
   ]
  },
  {
   "cell_type": "code",
   "execution_count": 59,
   "metadata": {},
   "outputs": [],
   "source": [
    "# wylaczenie dodawania warstw\n",
    "# arcpy.env.addOutputsToMap = False\n",
    "drogi_wszystkie = (R\"C:\\Users\\mplaciszewska\\Documents\\ArcGIS\\Projects\\projekt1-analizyp\\projekt1-analizyp.gdb\\SKDR.shp\")\n",
    "rzeki = (R\"C:\\Users\\mplaciszewska\\Documents\\ArcGIS\\Projects\\projekt1-analizyp\\projekt1-analizyp.gdb\\SWRS.shp\")\n",
    "jeziora = (R\"C:\\Users\\mplaciszewska\\Documents\\ArcGIS\\Projects\\projekt1-analizyp\\projekt1-analizyp.gdb\\PTWP.shp\")\n",
    "lasy = (R\"C:\\Users\\mplaciszewska\\Documents\\ArcGIS\\Projects\\projekt1-analizyp\\projekt1-analizyp.gdb\\PTLZ.shp\")\n",
    "budynki_wszystkie = (R\"C:\\Users\\mplaciszewska\\Documents\\ArcGIS\\Projects\\projekt1-analizyp\\projekt1-analizyp.gdb\\BUBDA.shp\")\n",
    "bufor = (R\"C:\\Users\\mplaciszewska\\Documents\\ArcGIS\\Projects\\projekt1-analizyp\\projekt1-analizyp.gdb\\swieradow_zdroj_Buffer\")\n",
    "raster_gmina = (R\"C:\\Users\\mplaciszewska\\Documents\\ArcGIS\\Projects\\projekt1-analizyp\\projekt1-analizyp.gdb\\raster_extracted\")"
   ]
  },
  {
   "cell_type": "markdown",
   "metadata": {},
   "source": [
    "Selekcja po atrybutach odpowiednich warstw"
   ]
  },
  {
   "cell_type": "code",
   "execution_count": 69,
   "metadata": {},
   "outputs": [
    {
     "data": {
      "text/html": [
       "<div class='gpresult'><h2>Messages</h2><div id='messages' data-messages='[\"Start Time: czwartek, 31 października 2024 12:31:43\",\"Succeeded at czwartek, 31 października 2024 12:31:44 (Elapsed Time: 0,15 seconds)\"]' data-show='true'><div id = 'default' /></div></div>"
      ],
      "text/plain": [
       "<Result 'BUBDA_Layer1'>"
      ]
     },
     "execution_count": 69,
     "metadata": {},
     "output_type": "execute_result"
    }
   ],
   "source": [
    "#wyselekcjonowanie drog utwardzonych\n",
    "drogi = arcpy.management.SelectLayerByAttribute(drogi_wszystkie, \"NEW_SELECTION\", \"MATE_NAWIE IN ('beton','bruk', 'kostka kamienna', 'kostka prefabrykowana', 'masa bitumiczna', 'płyty betonowe')\", None)\n",
    "arcpy.management.CopyFeatures(drogi, r\"C:\\Users\\mplaciszewska\\Documents\\ArcGIS\\Projects\\projekt1-analizyp\\projekt1-analizyp.gdb\\drogi_selected\", '', None, None, None)\n",
    "drogi_selected = 'drogi_selected'\n",
    "arcpy.SelectLayerByAttribute_management(drogi, \"CLEAR_SELECTION\")\n",
    "\n",
    "#wyselekcjonowanie budynkow mieszkalnych\n",
    "budynki = arcpy.management.SelectLayerByAttribute(budynki_wszystkie, \"NEW_SELECTION\", \"FOBUD IN ('budynki mieszkalne')\", None)\n",
    "arcpy.management.CopyFeatures(budynki, r\"C:\\Users\\mplaciszewska\\Documents\\ArcGIS\\Projects\\projekt1-analizyp\\projekt1-analizyp.gdb\\budynki_selected\", '', None, None, None)\n",
    "budynki_selected = 'budynki_selected'\n",
    "arcpy.SelectLayerByAttribute_management(budynki, \"CLEAR_SELECTION\")"
   ]
  },
  {
   "cell_type": "markdown",
   "metadata": {},
   "source": [
    "Stworzenie map odległości dla kryteriów narzędziem Euclidian Distance"
   ]
  },
  {
   "cell_type": "code",
   "execution_count": 70,
   "metadata": {},
   "outputs": [],
   "source": [
    "distance_rzeki = arcpy.sa.EucDistance(rzeki, None, \"5\")\n",
    "distance_jeziora = arcpy.sa.EucDistance(jeziora, None, \"5\")\n",
    "distance_drogi = arcpy.sa.EucDistance(drogi_selected, None, \"5\")\n",
    "distance_budynki = arcpy.sa.EucDistance(budynki_selected, None, \"5\")\n",
    "distance_lasy = arcpy.sa.EucDistance(lasy, None, \"5\")"
   ]
  },
  {
   "cell_type": "markdown",
   "metadata": {},
   "source": [
    "Kryterium 1 - odległość od rzek i zbiorników wodnych, jak najbliżej (nieprzekraczalna strefa ochronna 100m)"
   ]
  },
  {
   "cell_type": "code",
   "execution_count": 33,
   "metadata": {},
   "outputs": [],
   "source": [
    "#kryterium ostre dla strefy ochronnej 100m poprzez reklasyfikacje map odleglosci\n",
    "rzeki_ostre = arcpy.ddd.Reclassify(distance_rzeki, \"VALUE\", \"0 100 0;100 912,537659 1\")\n",
    "jeziora_ostre = arcpy.ddd.Reclassify(distance_jeziora, \"VALUE\", \"0 100 0;100 1773,760132 1\")\n",
    "\n",
    "#połączenie kryteriów ostrych dla rzek i jezior\n",
    "wody_ostre = arcpy.sa.FuzzyOverlay([rzeki_ostre, jeziora_ostre], \"AND\")"
   ]
  },
  {
   "cell_type": "code",
   "execution_count": 35,
   "metadata": {},
   "outputs": [],
   "source": [
    "#kryterium rozmyte dla obszarów w odległości powyżej 100m\n",
    "rzeki_rozmyte = arcpy.sa.FuzzyMembership(distance_rzeki, arcpy.sa.FuzzyLinear(400, 200))\n",
    "jeziora_rozmyte = arcpy.sa.FuzzyMembership(distance_jeziora, arcpy.sa.FuzzyLinear(400, 200))\n",
    "\n",
    "#połączenie kryteriów rozmytych dla rzek i jezior\n",
    "wody_rozmyte = arcpy.sa.FuzzyOverlay([rzeki_rozmyte, jeziora_rozmyte], \"OR\")"
   ]
  },
  {
   "cell_type": "code",
   "execution_count": 48,
   "metadata": {},
   "outputs": [],
   "source": [
    "#połączenie kryterium ostrego i rozmytego dla wody\n",
    "kryterium_wody = arcpy.sa.FuzzyOverlay([wody_ostre, wody_rozmyte], 'AND')\n",
    "kryterium_wody.save(R\"C:\\Users\\mplaciszewska\\Documents\\ArcGIS\\Projects\\projekt1-analizyp\\projekt1-analizyp.gdb\\kryterium_wody\")"
   ]
  },
  {
   "cell_type": "markdown",
   "metadata": {},
   "source": [
    "Kryterium 2 - dostęp do dróg utwardzonych, jak największe zagęszczenie "
   ]
  },
  {
   "cell_type": "code",
   "execution_count": 87,
   "metadata": {},
   "outputs": [],
   "source": [
    "#kryterium rozmyte - do 200m najlepsza przydatność\n",
    "kryterium_drogi = arcpy.sa.FuzzyMembership(distance_drogi, arcpy.sa.FuzzyLinear(500, 200))\n",
    "kryterium_drogi.save(R\"C:\\Users\\mplaciszewska\\Documents\\ArcGIS\\Projects\\projekt1-analizyp\\projekt1-analizyp.gdb\\kryterium_drogi\")"
   ]
  },
  {
   "cell_type": "markdown",
   "metadata": {},
   "source": [
    "Kryterium 3 - odległość od budynków mieszkalnych"
   ]
  },
  {
   "cell_type": "code",
   "execution_count": 77,
   "metadata": {},
   "outputs": [],
   "source": [
    "kryterium_budynki = arcpy.sa.FuzzyMembership(distance_budynki,  arcpy.sa.FuzzyLinear(150, 400))\n",
    "kryterium_budynki.save(R\"C:\\Users\\mplaciszewska\\Documents\\ArcGIS\\Projects\\projekt1-analizyp\\projekt1-analizyp.gdb\\kryterium_budynki\")"
   ]
  },
  {
   "cell_type": "markdown",
   "metadata": {},
   "source": [
    "Krterium 4 - pokrycie terenu, nie w lesie, powyżej 15m od lasu, optymalnie 100m od lasu "
   ]
  },
  {
   "cell_type": "code",
   "execution_count": 88,
   "metadata": {},
   "outputs": [],
   "source": [
    "kryterium_lasy = arcpy.sa.FuzzyMembership(distance_lasy, arcpy.sa.FuzzyLinear(15, 100))\n",
    "kryterium_lasy.save(R\"C:\\Users\\mplaciszewska\\Documents\\ArcGIS\\Projects\\projekt1-analizyp\\projekt1-analizyp.gdb\\kryterium_lasy\")"
   ]
  },
  {
   "cell_type": "markdown",
   "metadata": {},
   "source": [
    "Kryterium 5 - nachylenie stoków, optymalnie płasko, maksymalnie 10%"
   ]
  },
  {
   "cell_type": "code",
   "execution_count": 68,
   "metadata": {},
   "outputs": [],
   "source": [
    "#stworzenie warstwy z nachyleniami stoków narzędziem Slope\n",
    "spadki_output = R\"C:\\Users\\mplaciszewska\\Documents\\ArcGIS\\Projects\\projekt1-analizyp\\projekt1-analizyp.gdb\\spadki\"\n",
    "spadki = arcpy.ddd.Slope(raster_gmina, spadki_output, \"PERCENT_RISE\", 1)\n",
    "\n",
    "kryterium_spadki = arcpy.sa.FuzzyMembership(spadki, arcpy.sa.FuzzyLinear(10, 3))\n",
    "kryterium_spadki.save(R\"C:\\Users\\mplaciszewska\\Documents\\ArcGIS\\Projects\\projekt1-analizyp\\projekt1-analizyp.gdb\\kryterium_spadki\")"
   ]
  },
  {
   "cell_type": "markdown",
   "metadata": {},
   "source": [
    "Kryterium 6 - nasłonecznienie, optymalnie stoki południowe (SW-SE)"
   ]
  },
  {
   "cell_type": "code",
   "execution_count": 83,
   "metadata": {},
   "outputs": [],
   "source": [
    "#stworzenie warstwy ze stokami narzędziem Aspect\n",
    "stoki_output = R\"C:\\Users\\mplaciszewska\\Documents\\ArcGIS\\Projects\\projekt1-analizyp\\projekt1-analizyp.gdb\\stoki\"\n",
    "stoki = arcpy.ddd.Aspect(raster_gmina, stoki_output)\n",
    "stoki_ES = arcpy.sa.FuzzyMembership(stoki, arcpy.sa.FuzzyLinear(95, 113))\n",
    "stoki_WS = arcpy.sa.FuzzyMembership(stoki, arcpy.sa.FuzzyLinear(260, 247))\n",
    "stoki_ostre = arcpy.ddd.Reclassify(stoki, \"VALUE\", \"0 113 0;113 247 1;247 360 0\")"
   ]
  },
  {
   "cell_type": "code",
   "execution_count": null,
   "metadata": {},
   "outputs": [],
   "source": []
  }
 ],
 "metadata": {
  "kernelspec": {
   "display_name": "ArcGISPro",
   "language": "Python",
   "name": "python3"
  },
  "language_info": {
   "file_extension": ".py",
   "name": "python",
   "version": "3"
  }
 },
 "nbformat": 4,
 "nbformat_minor": 2
}
