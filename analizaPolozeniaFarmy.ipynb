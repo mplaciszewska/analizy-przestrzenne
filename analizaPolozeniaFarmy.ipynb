{
 "cells": [
  {
   "cell_type": "markdown",
   "metadata": {},
   "source": [
    "Import arcpy, ustawienie środowiska projektu"
   ]
  },
  {
   "cell_type": "code",
   "execution_count": 18,
   "metadata": {},
   "outputs": [],
   "source": [
    "import arcpy\n",
    "from arcpy import *\n",
    "\n",
    "arcpy.env.workspace = (R\"C:\\Users\\mplaciszewska\\Documents\\ArcGIS\\Projects\\projekt1-analizyp\\projekt1-analizyp.gdp\")\n",
    "arcpy.env.outputCoordinateSystem = arcpy.SpatialReference(\"ETRS 1989 Poland CS92\")\n",
    "arcpy.env.overwriteOutput = True\n",
    "arcpy.env.extent = (R\"C:\\Users\\mplaciszewska\\Documents\\ArcGIS\\Projects\\projekt1-analizyp\\projekt1-analizyp.gdb\\swieradow_zdroj_Buffer\")\n",
    "arcpy.env.mask = (R\"C:\\Users\\mplaciszewska\\Documents\\ArcGIS\\Projects\\projekt1-analizyp\\projekt1-analizyp.gdb\\swieradow_zdroj_Buffer.shp\")\n",
    "arcpy.env.cellSize = (R\"C:\\Users\\mplaciszewska\\Documents\\ArcGIS\\Projects\\projekt1-analizyp\\projekt1-analizyp.gdb\\raster_extracted.tif\")\n",
    "\n",
    "aprx = arcpy.mp.ArcGISProject(\"CURRENT\")  # Otwiera bieżący projekt\n",
    "m = aprx.activeMap\n",
    "\n",
    "# wylaczenie dodawania warstw\n",
    "arcpy.env.addOutputsToMap = False"
   ]
  },
  {
   "cell_type": "markdown",
   "metadata": {},
   "source": [
    "Wczytanie warstw i ich zapis do zmiennych"
   ]
  },
  {
   "cell_type": "code",
   "execution_count": 2,
   "metadata": {},
   "outputs": [],
   "source": [
    "drogi_wszystkie = (R\"C:\\Users\\mplaciszewska\\Documents\\ArcGIS\\Projects\\projekt1-analizyp\\projekt1-analizyp.gdb\\SKDR.shp\")\n",
    "rzeki = (R\"C:\\Users\\mplaciszewska\\Documents\\ArcGIS\\Projects\\projekt1-analizyp\\projekt1-analizyp.gdb\\SWRS.shp\")\n",
    "jeziora = (R\"C:\\Users\\mplaciszewska\\Documents\\ArcGIS\\Projects\\projekt1-analizyp\\projekt1-analizyp.gdb\\PTWP.shp\")\n",
    "lasy = (R\"C:\\Users\\mplaciszewska\\Documents\\ArcGIS\\Projects\\projekt1-analizyp\\projekt1-analizyp.gdb\\PTLZ.shp\")\n",
    "budynki_wszystkie = (R\"C:\\Users\\mplaciszewska\\Documents\\ArcGIS\\Projects\\projekt1-analizyp\\projekt1-analizyp.gdb\\BUBDA.shp\")\n",
    "bufor = (R\"C:\\Users\\mplaciszewska\\Documents\\ArcGIS\\Projects\\projekt1-analizyp\\projekt1-analizyp.gdb\\swieradow_zdroj_Buffer\")\n",
    "raster_gmina = (R\"C:\\Users\\mplaciszewska\\Documents\\ArcGIS\\Projects\\projekt1-analizyp\\projekt1-analizyp.gdb\\raster_extracted\")"
   ]
  },
  {
   "cell_type": "markdown",
   "metadata": {},
   "source": [
    "Selekcja po atrybutach odpowiednich warstw"
   ]
  },
  {
   "cell_type": "code",
   "execution_count": 3,
   "metadata": {},
   "outputs": [
    {
     "data": {
      "text/html": [
       "<div class='gpresult'><h2>Messages</h2><div id='messages' data-messages='[\"Start Time: czwartek, 28 listopada 2024 12:02:11\",\"Succeeded at czwartek, 28 listopada 2024 12:02:11 (Elapsed Time: 0,02 seconds)\"]' data-show='true'><div id = 'default' /></div></div>"
      ],
      "text/plain": [
       "<Result 'BUBDA_Layer1'>"
      ]
     },
     "execution_count": 3,
     "metadata": {},
     "output_type": "execute_result"
    }
   ],
   "source": [
    "#wyselekcjonowanie drog utwardzonych\n",
    "drogi = arcpy.management.SelectLayerByAttribute(drogi_wszystkie, \"NEW_SELECTION\", \"MATE_NAWIE IN ('beton','bruk', 'kostka kamienna', 'kostka prefabrykowana', 'masa bitumiczna', 'płyty betonowe')\", None)\n",
    "arcpy.management.CopyFeatures(drogi, r\"C:\\Users\\mplaciszewska\\Documents\\ArcGIS\\Projects\\projekt1-analizyp\\projekt1-analizyp.gdb\\drogi_selected\", '', None, None, None)\n",
    "drogi_selected = 'drogi_selected'\n",
    "m.addDataFromPath(R\"C:\\Users\\mplaciszewska\\Documents\\ArcGIS\\Projects\\projekt1-analizyp\\projekt1-analizyp.gdb\\drogi_selected\")\n",
    "arcpy.SelectLayerByAttribute_management(drogi, \"CLEAR_SELECTION\")\n",
    "\n",
    "#wyselekcjonowanie budynkow mieszkalnych\n",
    "budynki = arcpy.management.SelectLayerByAttribute(budynki_wszystkie, \"NEW_SELECTION\", \"FOBUD IN ('budynki mieszkalne')\", None)\n",
    "arcpy.management.CopyFeatures(budynki, r\"C:\\Users\\mplaciszewska\\Documents\\ArcGIS\\Projects\\projekt1-analizyp\\projekt1-analizyp.gdb\\budynki_selected\", '', None, None, None)\n",
    "budynki_selected = 'budynki_selected'\n",
    "arcpy.SelectLayerByAttribute_management(budynki, \"CLEAR_SELECTION\")"
   ]
  },
  {
   "cell_type": "markdown",
   "metadata": {},
   "source": [
    "Stworzenie map odległości dla kryteriów narzędziem Euclidian Distance"
   ]
  },
  {
   "cell_type": "code",
   "execution_count": 4,
   "metadata": {},
   "outputs": [],
   "source": [
    "distance_rzeki = arcpy.sa.EucDistance(rzeki, None, \"5\")\n",
    "distance_jeziora = arcpy.sa.EucDistance(jeziora, None, \"5\")\n",
    "distance_drogi = arcpy.sa.EucDistance(drogi_selected, None, \"5\")\n",
    "distance_budynki = arcpy.sa.EucDistance(budynki_selected, None, \"5\")\n",
    "distance_lasy = arcpy.sa.EucDistance(lasy, None, \"5\")\n",
    "\n",
    "# mapa odleglosci do kryterium z wezlami wykonana w QGiS:\n",
    "distance_wezly  = Raster(r\"C:\\Users\\mplaciszewska\\Desktop\\studia\\geoinf_sem_5\\analizy_przestrzenne\\cw1\\kryterium_wezly_komunikacyjne.tif\")"
   ]
  },
  {
   "cell_type": "markdown",
   "metadata": {},
   "source": [
    "Kryterium 1 - odległość od rzek i zbiorników wodnych, jak najbliżej (nieprzekraczalna strefa ochronna 100m)"
   ]
  },
  {
   "cell_type": "code",
   "execution_count": 5,
   "metadata": {},
   "outputs": [],
   "source": [
    "#kryterium ostre dla strefy ochronnej 100m poprzez reklasyfikacje map odleglosci\n",
    "rzeki_ostre = arcpy.ddd.Reclassify(distance_rzeki, \"VALUE\", f\"0 100 0;100 {distance_rzeki.maximum} 1\")\n",
    "jeziora_ostre = arcpy.ddd.Reclassify(distance_jeziora, \"VALUE\", f\"0 100 0;100 {distance_jeziora.maximum} 1\")\n",
    "\n",
    "#połączenie kryteriów ostrych dla rzek i jezior\n",
    "wody_ostre = arcpy.sa.FuzzyOverlay([rzeki_ostre, jeziora_ostre], \"AND\")"
   ]
  },
  {
   "cell_type": "code",
   "execution_count": 6,
   "metadata": {},
   "outputs": [],
   "source": [
    "#kryterium rozmyte dla obszarów w odległości powyżej 100m\n",
    "rzeki_rozmyte = arcpy.sa.FuzzyMembership(distance_rzeki, arcpy.sa.FuzzyLinear(400, 200))\n",
    "jeziora_rozmyte = arcpy.sa.FuzzyMembership(distance_jeziora, arcpy.sa.FuzzyLinear(400, 200))\n",
    "\n",
    "#połączenie kryteriów rozmytych dla rzek i jezior\n",
    "wody_rozmyte = arcpy.sa.FuzzyOverlay([rzeki_rozmyte, jeziora_rozmyte], \"OR\")"
   ]
  },
  {
   "cell_type": "code",
   "execution_count": 7,
   "metadata": {},
   "outputs": [],
   "source": [
    "#połączenie kryterium ostrego i rozmytego dla wody\n",
    "kryterium_wody = arcpy.sa.FuzzyOverlay([wody_ostre, wody_rozmyte], 'AND')\n",
    "kryterium_wody.save(R\"C:\\Users\\mplaciszewska\\Documents\\ArcGIS\\Projects\\projekt1-analizyp\\projekt1-analizyp.gdb\\kryterium_wody\")"
   ]
  },
  {
   "cell_type": "markdown",
   "metadata": {},
   "source": [
    "Kryterium 2 - dostęp do dróg utwardzonych, jak największe zagęszczenie "
   ]
  },
  {
   "cell_type": "code",
   "execution_count": 44,
   "metadata": {},
   "outputs": [],
   "source": [
    "# ocena przydatnosci pod wzgledem zageszczenia\n",
    "raster_zageszczenia = arcpy.sa.LineDensity(\n",
    "    in_polyline_features=drogi_selected,\n",
    "    population_field=\"NONE\",\n",
    "    cell_size=5,\n",
    "    search_radius=1000,\n",
    "    area_unit_scale_factor=\"SQUARE_METERS\"\n",
    ")\n",
    "arcpy.management.CalculateStatistics(raster_zageszczenia)\n",
    "\n",
    "max_value = raster_zageszczenia.maximum\n",
    "\n",
    "# przeskalowanie rastra zageszczenia do wartosci 0-1\n",
    "kryterium_drogi = arcpy.sa.RescaleByFunction(\n",
    "    in_raster=raster_zageszczenia,\n",
    "    transformation_function= f\"LINEAR 0 1,{max_value} 0 # {max_value} #\",\n",
    "    from_scale=0,\n",
    "    to_scale=1\n",
    ")\n",
    "\n",
    "kryterium_drogi.save(r\"C:\\Users\\mplaciszewska\\Documents\\ArcGIS\\Projects\\projekt1-analizyp\\projekt1-analizyp.gdb\\kryterium_drogi\")\n",
    "# m.addDataFromPath(r\"C:\\Users\\mplaciszewska\\Documents\\ArcGIS\\Projects\\projekt1-analizyp\\projekt1-analizyp.gdb\\kryterium_drogi\")"
   ]
  },
  {
   "cell_type": "markdown",
   "metadata": {},
   "source": [
    "Kryterium 3 - odległość od budynków mieszkalnych"
   ]
  },
  {
   "cell_type": "code",
   "execution_count": 9,
   "metadata": {},
   "outputs": [],
   "source": [
    "kryterium_budynki = arcpy.sa.FuzzyMembership(distance_budynki,  arcpy.sa.FuzzyLinear(150, 400))\n",
    "kryterium_budynki.save(R\"C:\\Users\\mplaciszewska\\Documents\\ArcGIS\\Projects\\projekt1-analizyp\\projekt1-analizyp.gdb\\kryterium_budynki\")"
   ]
  },
  {
   "cell_type": "markdown",
   "metadata": {},
   "source": [
    "Krterium 4 - pokrycie terenu, nie w lesie, powyżej 15m od lasu, optymalnie 100m od lasu "
   ]
  },
  {
   "cell_type": "code",
   "execution_count": 10,
   "metadata": {},
   "outputs": [],
   "source": [
    "kryterium_lasy = arcpy.sa.FuzzyMembership(distance_lasy, arcpy.sa.FuzzyLinear(15, 100))\n",
    "kryterium_lasy.save(R\"C:\\Users\\mplaciszewska\\Documents\\ArcGIS\\Projects\\projekt1-analizyp\\projekt1-analizyp.gdb\\kryterium_lasy\")"
   ]
  },
  {
   "cell_type": "markdown",
   "metadata": {},
   "source": [
    "Kryterium 5 - nachylenie stoków, optymalnie płasko, maksymalnie 10%"
   ]
  },
  {
   "cell_type": "code",
   "execution_count": 11,
   "metadata": {},
   "outputs": [],
   "source": [
    "#stworzenie warstwy z nachyleniami stoków narzędziem Slope\n",
    "spadki_output = R\"C:\\Users\\mplaciszewska\\Documents\\ArcGIS\\Projects\\projekt1-analizyp\\projekt1-analizyp.gdb\\spadki\"\n",
    "spadki = arcpy.ddd.Slope(raster_gmina, spadki_output, \"PERCENT_RISE\", 1)\n",
    "\n",
    "kryterium_spadki = arcpy.sa.FuzzyMembership(spadki, arcpy.sa.FuzzyLinear(10, 3))\n",
    "kryterium_spadki.save(R\"C:\\Users\\mplaciszewska\\Documents\\ArcGIS\\Projects\\projekt1-analizyp\\projekt1-analizyp.gdb\\kryterium_spadki\")"
   ]
  },
  {
   "cell_type": "markdown",
   "metadata": {},
   "source": [
    "Kryterium 6 - nasłonecznienie, optymalnie stoki południowe (SW-SE)"
   ]
  },
  {
   "cell_type": "code",
   "execution_count": 12,
   "metadata": {},
   "outputs": [],
   "source": [
    "#stworzenie warstwy ze stokami narzędziem Aspect\n",
    "stoki_output = R\"C:\\Users\\mplaciszewska\\Documents\\ArcGIS\\Projects\\projekt1-analizyp\\projekt1-analizyp.gdb\\stoki\"\n",
    "stoki = arcpy.ddd.Aspect(raster_gmina, stoki_output)\n",
    "\n",
    "# rozdzielenie kryterium rozmytego na rosnący i malejący\n",
    "stoki_ES = arcpy.sa.FuzzyMembership(stoki, arcpy.sa.FuzzyLinear(90, 113))\n",
    "stoki_WS = arcpy.sa.FuzzyMembership(stoki, arcpy.sa.FuzzyLinear(270, 248))\n",
    "\n",
    "# ustawienie przydatności płaskich stoków na 1\n",
    "plaskie_stoki = arcpy.sa.Con(stoki, 1, 0, \"VALUE = -1\") \n",
    "\n",
    "stoki_rozmyte = arcpy.sa.FuzzyOverlay([stoki_ES, stoki_WS], 'AND')\n",
    "kryterium_stoki = arcpy.sa.FuzzyOverlay([stoki_rozmyte, plaskie_stoki], 'OR')\n",
    "\n",
    "kryterium_stoki.save(R\"C:\\Users\\mplaciszewska\\Documents\\ArcGIS\\Projects\\projekt1-analizyp\\projekt1-analizyp.gdb\\kryterium_stoki\")"
   ]
  },
  {
   "cell_type": "markdown",
   "metadata": {},
   "source": [
    "Utworzenie węzłów komunikacyjnych"
   ]
  },
  {
   "cell_type": "code",
   "execution_count": 13,
   "metadata": {},
   "outputs": [
    {
     "data": {
      "text/plain": [
       "<arcpy._mp.Layer object at 0x000001AF1CCBAB50>"
      ]
     },
     "execution_count": 13,
     "metadata": {},
     "output_type": "execute_result"
    }
   ],
   "source": [
    "kryterium_wezly = arcpy.sa.FuzzyMembership(distance_wezly, arcpy.sa.FuzzyLinear(distance_wezly.maximum, 200))\n",
    "kryterium_wezly.save(R\"C:\\Users\\mplaciszewska\\Documents\\ArcGIS\\Projects\\projekt1-analizyp\\projekt1-analizyp.gdb\\kryterium_wezly\")\n",
    "m.addDataFromPath(R\"C:\\Users\\mplaciszewska\\Documents\\ArcGIS\\Projects\\projekt1-analizyp\\projekt1-analizyp.gdb\\kryterium_wezly\")"
   ]
  },
  {
   "cell_type": "markdown",
   "metadata": {},
   "source": [
    "Połączenie kryteriów "
   ]
  },
  {
   "cell_type": "code",
   "execution_count": 48,
   "metadata": {},
   "outputs": [
    {
     "name": "stdout",
     "output_type": "stream",
     "text": [
      "ok\n"
     ]
    }
   ],
   "source": [
    "# połączenie kryteriów stosując równe wagi dla kryteriów\n",
    "kryteria_rowne = arcpy.sa.WSTable(\n",
    "    [\n",
    "        [kryterium_budynki, \"VALUE\", 0.14285714],\n",
    "        [kryterium_drogi, \"VALUE\", 0.14285714],\n",
    "        [kryterium_lasy, \"VALUE\", 0.14285714],\n",
    "        [kryterium_spadki, \"VALUE\", 0.14285714],\n",
    "        [kryterium_stoki, \"VALUE\", 0.14285714],\n",
    "        [kryterium_wody, \"VALUE\", 0.14285714],\n",
    "        [kryterium_wezly, \"VALUE\", 0.14285714],\n",
    "    ]\n",
    ")\n",
    "polaczone_kryteria_rowne = arcpy.sa.WeightedSum(kryteria_rowne)\n",
    "polaczone_kryteria_rowne.save(r\"C:\\Users\\mplaciszewska\\Documents\\ArcGIS\\Projects\\projekt1-analizyp\\projekt1-analizyp.gdb\\polaczone_kryteria_rowne\")\n",
    "\n",
    "# połączenie kryteriów stosując różne wagi dla kryteriów\n",
    "kryteria_rozne = arcpy.sa.WSTable(\n",
    "    [\n",
    "        [kryterium_budynki, \"VALUE\", 0.14],\n",
    "        [kryterium_drogi, \"VALUE\", 0.1],\n",
    "        [kryterium_lasy, \"VALUE\", 0.125],\n",
    "        [kryterium_spadki, \"VALUE\", 0.18],\n",
    "        [kryterium_stoki, \"VALUE\", 0.18],\n",
    "        [kryterium_wody, \"VALUE\", 0.18],\n",
    "        [kryterium_wezly, \"VALUE\", 0.095],\n",
    "    ]\n",
    ")\n",
    "polaczone_kryteria_rozne = arcpy.sa.WeightedSum(kryteria_rozne)\n",
    "polaczone_kryteria_rozne.save(r\"C:\\Users\\mplaciszewska\\Documents\\ArcGIS\\Projects\\projekt1-analizyp\\projekt1-analizyp.gdb\\polaczone_kryteria_rozne\")\n",
    "print(\"ok\")\n"
   ]
  },
  {
   "cell_type": "markdown",
   "metadata": {},
   "source": [
    "Uwzględnienie kryteriów ostrych do map przydatności (nieprzekraczalne strefy w kryterium wody, budynków i lasów)"
   ]
  },
  {
   "cell_type": "code",
   "execution_count": 59,
   "metadata": {},
   "outputs": [
    {
     "data": {
      "text/plain": [
       "<arcpy._mp.Layer object at 0x000001AF1D159EB0>"
      ]
     },
     "execution_count": 59,
     "metadata": {},
     "output_type": "execute_result"
    }
   ],
   "source": [
    "# budynki ostre:\n",
    "budynki_ostre = arcpy.ddd.Reclassify(distance_budynki, \"VALUE\", f\"0 150 0; 150 {distance_budynki.maximum} 1\")\n",
    "\n",
    "# lasy ostre:\n",
    "lasy_ostre = arcpy.ddd.Reclassify(distance_lasy, \"VALUE\", f\"0 15 0; 15 {distance_lasy.maximum} 1\")\n",
    "\n",
    "def times(in_raster1, in_raster2):\n",
    "    out_raster = arcpy.ia.Times(\n",
    "        in_raster_or_constant1=in_raster1,\n",
    "        in_raster_or_constant2=in_raster2\n",
    "    )\n",
    "    return out_raster\n",
    "\n",
    "# przemnożenie mapy przydatności o równych wagach przez kryteria ostre:\n",
    "def polacz_ostre(polaczone_kryteria):\n",
    "    mapa_przydatnosci1 = times(polaczone_kryteria, wody_ostre)\n",
    "    mapa_przydatnosci2 = times(mapa_przydatnosci1, budynki_ostre)\n",
    "    mapa_przydatnosci = times(mapa_przydatnosci2, lasy_ostre)\n",
    "\n",
    "    return mapa_przydatnosci\n",
    "\n",
    "mapa_przydatnosci_rowne = polacz_ostre(polaczone_kryteria_rowne)\n",
    "mapa_przydatnosci_rozne = polacz_ostre(polaczone_kryteria_rozne)\n",
    "\n",
    "mapa_przydatnosci_rowne.save(R\"C:\\Users\\mplaciszewska\\Documents\\ArcGIS\\Projects\\projekt1-analizyp\\projekt1-analizyp.gdb\\mapa_przydatnosci_rowne\")\n",
    "m.addDataFromPath(R\"C:\\Users\\mplaciszewska\\Documents\\ArcGIS\\Projects\\projekt1-analizyp\\projekt1-analizyp.gdb\\mapa_przydatnosci_rowne\")\n",
    "mapa_przydatnosci_rozne.save(R\"C:\\Users\\mplaciszewska\\Documents\\ArcGIS\\Projects\\projekt1-analizyp\\projekt1-analizyp.gdb\\mapa_przydatnosci_rozne\")\n",
    "m.addDataFromPath(R\"C:\\Users\\mplaciszewska\\Documents\\ArcGIS\\Projects\\projekt1-analizyp\\projekt1-analizyp.gdb\\mapa_przydatnosci_rozne\")"
   ]
  },
  {
   "cell_type": "markdown",
   "metadata": {},
   "source": [
    "reklasyfikacja map przydatnosci w celu wyodrębnienia obszarów o 80% przydatności"
   ]
  },
  {
   "cell_type": "code",
   "execution_count": 62,
   "metadata": {},
   "outputs": [
    {
     "data": {
      "text/plain": [
       "<arcpy._mp.Layer object at 0x000001AF1CD74C70>"
      ]
     },
     "execution_count": 62,
     "metadata": {},
     "output_type": "execute_result"
    }
   ],
   "source": [
    "def reklasyfikuj_mape(mapa_przydatnosci):\n",
    "    granica = 80/100 * mapa_przydatnosci.maximum\n",
    "    mapa_reclass = arcpy.sa.Reclassify(mapa_przydatnosci, \"VALUE\", f\"0 {granica} 0; {granica} {mapa_przydatnosci.maximum} 1\")\n",
    "    return mapa_reclass\n",
    "\n",
    "mapa_przydatnosci_reclass_rowne = reklasyfikuj_mape(mapa_przydatnosci_rowne)\n",
    "mapa_przydatnosci_reclass_rozne = reklasyfikuj_mape(mapa_przydatnosci_rozne)\n",
    "mapa_przydatnosci_reclass_rowne.save(R\"C:\\Users\\mplaciszewska\\Documents\\ArcGIS\\Projects\\projekt1-analizyp\\projekt1-analizyp.gdb\\mapa_przydatnosci_reclass_rowne\")\n",
    "m.addDataFromPath(R\"C:\\Users\\mplaciszewska\\Documents\\ArcGIS\\Projects\\projekt1-analizyp\\projekt1-analizyp.gdb\\mapa_przydatnosci_reclass_rowne\")\n",
    "mapa_przydatnosci_reclass_rozne.save(R\"C:\\Users\\mplaciszewska\\Documents\\ArcGIS\\Projects\\projekt1-analizyp\\projekt1-analizyp.gdb\\mapa_przydatnosci_reclass_rozne\")\n",
    "m.addDataFromPath(R\"C:\\Users\\mplaciszewska\\Documents\\ArcGIS\\Projects\\projekt1-analizyp\\projekt1-analizyp.gdb\\mapa_przydatnosci_reclass_rozne\")"
   ]
  },
  {
   "cell_type": "markdown",
   "metadata": {},
   "source": [
    "Wczytanie działek"
   ]
  },
  {
   "cell_type": "code",
   "execution_count": null,
   "metadata": {},
   "outputs": [],
   "source": []
  },
  {
   "cell_type": "code",
   "execution_count": null,
   "metadata": {},
   "outputs": [],
   "source": []
  }
 ],
 "metadata": {
  "kernelspec": {
   "display_name": "ArcGISPro",
   "language": "Python",
   "name": "python3"
  },
  "language_info": {
   "file_extension": ".py",
   "name": "python",
   "version": "3"
  }
 },
 "nbformat": 4,
 "nbformat_minor": 2
}
