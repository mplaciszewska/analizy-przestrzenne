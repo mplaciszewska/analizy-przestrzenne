{
 "cells": [
  {
   "cell_type": "markdown",
   "metadata": {},
   "source": [
    "Import arcpy, ustawienie środowiska projektu"
   ]
  },
  {
   "cell_type": "code",
   "execution_count": 1,
   "metadata": {},
   "outputs": [],
   "source": [
    "import arcpy\n",
    "from arcpy import *\n",
    "\n",
    "arcpy.env.workspace = (R\"C:\\Users\\mplaciszewska\\Documents\\ArcGIS\\Projects\\projekt1-analizyp\\projekt1-analizyp.gdp\")\n",
    "arcpy.env.outputCoordinateSystem = arcpy.SpatialReference(\"ETRS 1989 Poland CS92\")\n",
    "arcpy.env.overwriteOutput = True\n",
    "arcpy.env.extent = (R\"C:\\Users\\mplaciszewska\\Documents\\ArcGIS\\Projects\\projekt1-analizyp\\projekt1-analizyp.gdb\\swieradow_zdroj_Buffer\")\n",
    "arcpy.env.mask = (R\"C:\\Users\\mplaciszewska\\Documents\\ArcGIS\\Projects\\projekt1-analizyp\\projekt1-analizyp.gdb\\swieradow_zdroj_Buffer.shp\")\n",
    "arcpy.env.cellSize = (R\"C:\\Users\\mplaciszewska\\Documents\\ArcGIS\\Projects\\projekt1-analizyp\\projekt1-analizyp.gdb\\raster_extracted.tif\")\n",
    "gmina_mask = arcpy.env.mask\n",
    "gmina_extent = arcpy.env.extent\n",
    "\n",
    "aprx = arcpy.mp.ArcGISProject(\"CURRENT\")  # Otwiera bieżący projekt\n",
    "m = aprx.activeMap\n",
    "\n",
    "# wylaczenie dodawania warstw\n",
    "arcpy.env.addOutputsToMap = False"
   ]
  },
  {
   "cell_type": "markdown",
   "metadata": {},
   "source": [
    "Wczytanie warstw i ich zapis do zmiennych"
   ]
  },
  {
   "cell_type": "code",
   "execution_count": 2,
   "metadata": {},
   "outputs": [],
   "source": [
    "drogi_wszystkie = (R\"C:\\Users\\mplaciszewska\\Documents\\ArcGIS\\Projects\\projekt1-analizyp\\projekt1-analizyp.gdb\\SKDR.shp\")\n",
    "rzeki = (R\"C:\\Users\\mplaciszewska\\Documents\\ArcGIS\\Projects\\projekt1-analizyp\\projekt1-analizyp.gdb\\SWRS.shp\")\n",
    "jeziora = (R\"C:\\Users\\mplaciszewska\\Documents\\ArcGIS\\Projects\\projekt1-analizyp\\projekt1-analizyp.gdb\\PTWP.shp\")\n",
    "lasy = (R\"C:\\Users\\mplaciszewska\\Documents\\ArcGIS\\Projects\\projekt1-analizyp\\projekt1-analizyp.gdb\\PTLZ.shp\")\n",
    "budynki_wszystkie = (R\"C:\\Users\\mplaciszewska\\Documents\\ArcGIS\\Projects\\projekt1-analizyp\\projekt1-analizyp.gdb\\BUBDA.shp\")\n",
    "bufor = (R\"C:\\Users\\mplaciszewska\\Documents\\ArcGIS\\Projects\\projekt1-analizyp\\projekt1-analizyp.gdb\\swieradow_zdroj_Buffer\")\n",
    "raster_gmina = (R\"C:\\Users\\mplaciszewska\\Documents\\ArcGIS\\Projects\\projekt1-analizyp\\projekt1-analizyp.gdb\\raster_extracted\")"
   ]
  },
  {
   "cell_type": "markdown",
   "metadata": {},
   "source": [
    "Selekcja po atrybutach odpowiednich warstw"
   ]
  },
  {
   "cell_type": "code",
   "execution_count": 3,
   "metadata": {},
   "outputs": [
    {
     "data": {
      "text/html": [
       "<div class='gpresult'><h2>Messages</h2><div id='messages' data-messages='[\"Start Time: piątek, 22 listopada 2024 10:57:40\",\"Succeeded at piątek, 22 listopada 2024 10:57:40 (Elapsed Time: 0,02 seconds)\"]' data-show='true'><div id = 'default' /></div></div>"
      ],
      "text/plain": [
       "<Result 'BUBDA_Layer1'>"
      ]
     },
     "execution_count": 3,
     "metadata": {},
     "output_type": "execute_result"
    }
   ],
   "source": [
    "#wyselekcjonowanie drog utwardzonych\n",
    "drogi = arcpy.management.SelectLayerByAttribute(drogi_wszystkie, \"NEW_SELECTION\", \"MATE_NAWIE IN ('beton','bruk', 'kostka kamienna', 'kostka prefabrykowana', 'masa bitumiczna', 'płyty betonowe')\", None)\n",
    "arcpy.management.CopyFeatures(drogi, r\"C:\\Users\\mplaciszewska\\Documents\\ArcGIS\\Projects\\projekt1-analizyp\\projekt1-analizyp.gdb\\drogi_selected\", '', None, None, None)\n",
    "drogi_selected = 'drogi_selected'\n",
    "arcpy.SelectLayerByAttribute_management(drogi, \"CLEAR_SELECTION\")\n",
    "\n",
    "#wyselekcjonowanie budynkow mieszkalnych\n",
    "budynki = arcpy.management.SelectLayerByAttribute(budynki_wszystkie, \"NEW_SELECTION\", \"FOBUD IN ('budynki mieszkalne')\", None)\n",
    "arcpy.management.CopyFeatures(budynki, r\"C:\\Users\\mplaciszewska\\Documents\\ArcGIS\\Projects\\projekt1-analizyp\\projekt1-analizyp.gdb\\budynki_selected\", '', None, None, None)\n",
    "budynki_selected = 'budynki_selected'\n",
    "arcpy.SelectLayerByAttribute_management(budynki, \"CLEAR_SELECTION\")"
   ]
  },
  {
   "cell_type": "markdown",
   "metadata": {},
   "source": [
    "Stworzenie map odległości dla kryteriów narzędziem Euclidian Distance"
   ]
  },
  {
   "cell_type": "code",
   "execution_count": 4,
   "metadata": {},
   "outputs": [],
   "source": [
    "distance_rzeki = arcpy.sa.EucDistance(rzeki, None, \"5\")\n",
    "distance_jeziora = arcpy.sa.EucDistance(jeziora, None, \"5\")\n",
    "distance_drogi = arcpy.sa.EucDistance(drogi_selected, None, \"5\")\n",
    "distance_budynki = arcpy.sa.EucDistance(budynki_selected, None, \"5\")\n",
    "distance_lasy = arcpy.sa.EucDistance(lasy, None, \"5\")\n",
    "\n",
    "# mapa odleglosci do kryterium z wezlami wykonana w QGiS:\n",
    "distance_wezly  = Raster(r\"C:\\Users\\mplaciszewska\\Desktop\\studia\\geoinf_sem_5\\analizy_przestrzenne\\cw1\\kryterium_wezly_komunikacyjne.tif\")"
   ]
  },
  {
   "cell_type": "markdown",
   "metadata": {},
   "source": [
    "Kryterium 1 - odległość od rzek i zbiorników wodnych, jak najbliżej (nieprzekraczalna strefa ochronna 100m)"
   ]
  },
  {
   "cell_type": "code",
   "execution_count": 5,
   "metadata": {},
   "outputs": [],
   "source": [
    "#kryterium ostre dla strefy ochronnej 100m poprzez reklasyfikacje map odleglosci\n",
    "rzeki_ostre = arcpy.ddd.Reclassify(distance_rzeki, \"VALUE\", \"0 100 0;100 912,537659 1\")\n",
    "jeziora_ostre = arcpy.ddd.Reclassify(distance_jeziora, \"VALUE\", \"0 100 0;100 1773,760132 1\")\n",
    "\n",
    "#połączenie kryteriów ostrych dla rzek i jezior\n",
    "wody_ostre = arcpy.sa.FuzzyOverlay([rzeki_ostre, jeziora_ostre], \"AND\")"
   ]
  },
  {
   "cell_type": "code",
   "execution_count": 6,
   "metadata": {},
   "outputs": [],
   "source": [
    "#kryterium rozmyte dla obszarów w odległości powyżej 100m\n",
    "rzeki_rozmyte = arcpy.sa.FuzzyMembership(distance_rzeki, arcpy.sa.FuzzyLinear(400, 200))\n",
    "jeziora_rozmyte = arcpy.sa.FuzzyMembership(distance_jeziora, arcpy.sa.FuzzyLinear(400, 200))\n",
    "\n",
    "#połączenie kryteriów rozmytych dla rzek i jezior\n",
    "wody_rozmyte = arcpy.sa.FuzzyOverlay([rzeki_rozmyte, jeziora_rozmyte], \"OR\")"
   ]
  },
  {
   "cell_type": "code",
   "execution_count": 7,
   "metadata": {},
   "outputs": [],
   "source": [
    "#połączenie kryterium ostrego i rozmytego dla wody\n",
    "kryterium_wody = arcpy.sa.FuzzyOverlay([wody_ostre, wody_rozmyte], 'AND')\n",
    "kryterium_wody.save(R\"C:\\Users\\mplaciszewska\\Documents\\ArcGIS\\Projects\\projekt1-analizyp\\projekt1-analizyp.gdb\\kryterium_wody\")"
   ]
  },
  {
   "cell_type": "markdown",
   "metadata": {},
   "source": [
    "Kryterium 2 - dostęp do dróg utwardzonych, jak największe zagęszczenie "
   ]
  },
  {
   "cell_type": "code",
   "execution_count": 8,
   "metadata": {},
   "outputs": [
    {
     "ename": "ExecuteError",
     "evalue": "Failed to execute. Parameters are not valid.\nERROR 000860: Input polyline features: is not the type of Composite Geodataset, or does not exist.\nFailed to execute (LineDensity).\n",
     "output_type": "error",
     "traceback": [
      "\u001b[0;31m---------------------------------------------------------------------------\u001b[0m\n\u001b[0;31mExecuteError\u001b[0m                              Traceback (most recent call last)",
      "In  \u001b[0;34m[8]\u001b[0m:\nLine \u001b[0;34m2\u001b[0m:     raster_zageszczenia = arcpy.sa.LineDensity(\n",
      "File \u001b[0;34mC:\\Program Files\\ArcGIS\\Pro\\Resources\\ArcPy\\arcpy\\sa\\Functions.py\u001b[0m, in \u001b[0;32mLineDensity\u001b[0m:\nLine \u001b[0;34m6066\u001b[0m:  \u001b[34mreturn\u001b[39;49;00m Wrapper(\n",
      "File \u001b[0;34mC:\\Program Files\\ArcGIS\\Pro\\Resources\\ArcPy\\arcpy\\sa\\Utils.py\u001b[0m, in \u001b[0;32mswapper\u001b[0m:\nLine \u001b[0;34m55\u001b[0m:    result = wrapper(*args, **kwargs)\n",
      "File \u001b[0;34mC:\\Program Files\\ArcGIS\\Pro\\Resources\\ArcPy\\arcpy\\sa\\Functions.py\u001b[0m, in \u001b[0;32mWrapper\u001b[0m:\nLine \u001b[0;34m6058\u001b[0m:  result = arcpy.gp.LineDensity_sa(\n",
      "File \u001b[0;34mC:\\Program Files\\ArcGIS\\Pro\\Resources\\ArcPy\\arcpy\\geoprocessing\\_base.py\u001b[0m, in \u001b[0;32m<lambda>\u001b[0m:\nLine \u001b[0;34m512\u001b[0m:   \u001b[34mreturn\u001b[39;49;00m \u001b[34mlambda\u001b[39;49;00m *args: val(*gp_fixargs(args, \u001b[34mTrue\u001b[39;49;00m))\n",
      "\u001b[0;31mExecuteError\u001b[0m: Failed to execute. Parameters are not valid.\nERROR 000860: Input polyline features: is not the type of Composite Geodataset, or does not exist.\nFailed to execute (LineDensity).\n\n\u001b[0;31m---------------------------------------------------------------------------\u001b[0m"
     ]
    }
   ],
   "source": [
    "# ocena przydatnosci pod wzgledem zageszczenia\n",
    "raster_zageszczenia = arcpy.sa.LineDensity(\n",
    "    in_polyline_features=drogi_selected,\n",
    "    population_field=\"NONE\",\n",
    "    cell_size=5,\n",
    "    search_radius=1000,\n",
    "    area_unit_scale_factor=\"SQUARE_METERS\"\n",
    ")\n",
    "\n",
    "max_value = raster_zageszczenia.maximum\n",
    "\n",
    "# przeskalowanie rastra zageszczenia do wartosci 0-1\n",
    "kryterium_drogi = arcpy.sa.RescaleByFunction(\n",
    "    in_raster=raster_zageszczenia,\n",
    "    transformation_function= f\"LINEAR 0 1,{max_value} 0 # {max_value} #\",\n",
    "    from_scale=0,\n",
    "    to_scale=1\n",
    ")\n",
    "\n",
    "kryterium_drogi.save(r\"C:\\Users\\mplaciszewska\\Documents\\ArcGIS\\Projects\\projekt1-analizyp\\projekt1-analizyp.gdb\\kryterium_drogi\")\n",
    "m.addDataFromPath(r\"C:\\Users\\mplaciszewska\\Documents\\ArcGIS\\Projects\\projekt1-analizyp\\projekt1-analizyp.gdb\\kryterium_drogi\")"
   ]
  },
  {
   "cell_type": "markdown",
   "metadata": {},
   "source": [
    "Kryterium 3 - odległość od budynków mieszkalnych"
   ]
  },
  {
   "cell_type": "code",
   "execution_count": null,
   "metadata": {},
   "outputs": [],
   "source": [
    "kryterium_budynki = arcpy.sa.FuzzyMembership(distance_budynki,  arcpy.sa.FuzzyLinear(150, 400))\n",
    "kryterium_budynki.save(R\"C:\\Users\\mplaciszewska\\Documents\\ArcGIS\\Projects\\projekt1-analizyp\\projekt1-analizyp.gdb\\kryterium_budynki\")"
   ]
  },
  {
   "cell_type": "markdown",
   "metadata": {},
   "source": [
    "Krterium 4 - pokrycie terenu, nie w lesie, powyżej 15m od lasu, optymalnie 100m od lasu "
   ]
  },
  {
   "cell_type": "code",
   "execution_count": null,
   "metadata": {},
   "outputs": [],
   "source": [
    "kryterium_lasy = arcpy.sa.FuzzyMembership(distance_lasy, arcpy.sa.FuzzyLinear(15, 100))\n",
    "kryterium_lasy.save(R\"C:\\Users\\mplaciszewska\\Documents\\ArcGIS\\Projects\\projekt1-analizyp\\projekt1-analizyp.gdb\\kryterium_lasy\")"
   ]
  },
  {
   "cell_type": "markdown",
   "metadata": {},
   "source": [
    "Kryterium 5 - nachylenie stoków, optymalnie płasko, maksymalnie 10%"
   ]
  },
  {
   "cell_type": "code",
   "execution_count": null,
   "metadata": {},
   "outputs": [],
   "source": [
    "#stworzenie warstwy z nachyleniami stoków narzędziem Slope\n",
    "spadki_output = R\"C:\\Users\\mplaciszewska\\Documents\\ArcGIS\\Projects\\projekt1-analizyp\\projekt1-analizyp.gdb\\spadki\"\n",
    "spadki = arcpy.ddd.Slope(raster_gmina, spadki_output, \"PERCENT_RISE\", 1)\n",
    "\n",
    "kryterium_spadki = arcpy.sa.FuzzyMembership(spadki, arcpy.sa.FuzzyLinear(10, 3))\n",
    "kryterium_spadki.save(R\"C:\\Users\\mplaciszewska\\Documents\\ArcGIS\\Projects\\projekt1-analizyp\\projekt1-analizyp.gdb\\kryterium_spadki\")"
   ]
  },
  {
   "cell_type": "markdown",
   "metadata": {},
   "source": [
    "Kryterium 6 - nasłonecznienie, optymalnie stoki południowe (SW-SE)"
   ]
  },
  {
   "cell_type": "code",
   "execution_count": null,
   "metadata": {},
   "outputs": [],
   "source": [
    "#stworzenie warstwy ze stokami narzędziem Aspect\n",
    "stoki_output = R\"C:\\Users\\mplaciszewska\\Documents\\ArcGIS\\Projects\\projekt1-analizyp\\projekt1-analizyp.gdb\\stoki\"\n",
    "stoki = arcpy.ddd.Aspect(raster_gmina, stoki_output)\n",
    "\n",
    "# rozdzielenie kryterium rozmytego na rosnący i malejący\n",
    "stoki_ES = arcpy.sa.FuzzyMembership(stoki, arcpy.sa.FuzzyLinear(90, 113))\n",
    "stoki_WS = arcpy.sa.FuzzyMembership(stoki, arcpy.sa.FuzzyLinear(270, 248))\n",
    "\n",
    "# ustawienie przydatności płaskich stoków na 1\n",
    "plaskie_stoki = arcpy.sa.Con(stoki, 1, 0, \"VALUE = -1\") \n",
    "\n",
    "stoki_rozmyte = arcpy.sa.FuzzyOverlay([stoki_ES, stoki_WS], 'AND')\n",
    "kryterium_stoki = arcpy.sa.FuzzyOverlay([stoki_rozmyte, plaskie_stoki], 'OR')\n",
    "\n",
    "kryterium_stoki.save(R\"C:\\Users\\mplaciszewska\\Documents\\ArcGIS\\Projects\\projekt1-analizyp\\projekt1-analizyp.gdb\\kryterium_stoki\")"
   ]
  },
  {
   "cell_type": "markdown",
   "metadata": {},
   "source": [
    "Utworzenie węzłów komunikacyjnych"
   ]
  },
  {
   "cell_type": "code",
   "execution_count": null,
   "metadata": {},
   "outputs": [],
   "source": [
    "# # tymczasowe wyłączenie maski\n",
    "# arcpy.env.mask = None\n",
    "# arcpy.env.extent = None\n",
    "\n",
    "# # wczytanie warstwy drog dla wojewodztwa\n",
    "# drogi_wojewodztwa = \"SKDR_wojewodztwo.shp\"\n",
    "# # selekcja dróg o odpowiedniej kategorii\n",
    "# drogi_wezlowe = arcpy.management.SelectLayerByAttribute(drogi_wszystkie, \"NEW_SELECTION\", \"KAT_ZARZAD IN ('wojewódzka','powiatowa')\", None)\n",
    "# arcpy.management.CopyFeatures(drogi_wezlowe, r\"C:\\Users\\mplaciszewska\\Documents\\ArcGIS\\Projects\\projekt1-analizyp\\projekt1-analizyp.gdb\\drogi_wezlowe_selected\", '', None, None, None)\n",
    "# drogi_wezlowe_selected = 'drogi_wezlowe_selected'\n",
    "# arcpy.SelectLayerByAttribute_management(drogi_wezlowe, \"CLEAR_SELECTION\")\n",
    "# m.addDataFromPath(r\"C:\\Users\\mplaciszewska\\Documents\\ArcGIS\\Projects\\projekt1-analizyp\\projekt1-analizyp.gdb\\drogi_wezlowe_selected\")\n",
    "# # utworzenie punktow przeciecia drog\n",
    "# punkty_przeciecia_drog = arcpy.analysis.Intersect(drogi_wezlowe_selected,\n",
    "#     out_feature_class = None,\n",
    "#     join_attributes=\"ALL\",\n",
    "#     cluster_tolerance=None,\n",
    "#     output_type=\"POINT\"\n",
    "# )\n",
    "\n",
    "# # spatial join do policzenia liczby polaczen i selekcja wezlow o liczbie polaczen > 2\n",
    "# punkty_przeciec_polaczenia = arcpy.analysis.SpatialJoin(\n",
    "#     target_features=punkty_przeciecia_drog,\n",
    "#     join_features=drogi_wezlowe_selected,\n",
    "#     out_feature_class=None,\n",
    "#     join_operation=\"JOIN_ONE_TO_ONE\",\n",
    "#     join_type=\"KEEP_ALL\",\n",
    "#     field_mapping='FID_drogi_wezlowe_selected \"FID_drogi_wezlowe_selected\" true true false 4 Long 0 0,First,#,wezly_komunikacyjne,FID_drogi_wezlowe_selected,-1,-1;TERYT \"TERYT\" true true false 4 Text 0 0,First,#,wezly_komunikacyjne,TERYT,0,4;LOKALNYID \"LOKALNYID\" true true false 50 Text 0 0,First,#,wezly_komunikacyjne,LOKALNYID,0,50;PRZES_NAZW \"PRZES_NAZW\" true true false 25 Text 0 0,First,#,wezly_komunikacyjne,PRZES_NAZW,0,25;WERSJA \"WERSJA\" true true false 21 Text 0 0,First,#,wezly_komunikacyjne,WERSJA,0,21;POCZ_WERSJ \"POCZ_WERSJ\" true true false 21 Text 0 0,First,#,wezly_komunikacyjne,POCZ_WERSJ,0,21;OZNA_ZMIAN \"OZNA_ZMIAN\" true true false 254 Text 0 0,First,#,wezly_komunikacyjne,OZNA_ZMIAN,0,254;ZRO_DANYCH \"ZRO_DANYCH\" true true false 254 Text 0 0,First,#,wezly_komunikacyjne,ZRO_DANYCH,0,254;KAT_ISTNIE \"KAT_ISTNIE\" true true false 254 Text 0 0,First,#,wezly_komunikacyjne,KAT_ISTNIE,0,254;UWAGI \"UWAGI\" true true false 254 Text 0 0,First,#,wezly_komunikacyjne,UWAGI,0,254;INFO_DODAT \"INFO_DODAT\" true true false 254 Text 0 0,First,#,wezly_komunikacyjne,INFO_DODAT,0,254;KOD10K \"KOD10K\" true true false 254 Text 0 0,First,#,wezly_komunikacyjne,KOD10K,0,254;SKROT_KART \"SKROT_KART\" true true false 254 Text 0 0,First,#,wezly_komunikacyjne,SKROT_KART,0,254;KAT_ZARZAD \"KAT_ZARZAD\" true true false 254 Text 0 0,First,#,wezly_komunikacyjne,KAT_ZARZAD,0,254;KLASA_DROG \"KLASA_DROG\" true true false 254 Text 0 0,First,#,wezly_komunikacyjne,KLASA_DROG,0,254;MATE_NAWIE \"MATE_NAWIE\" true true false 254 Text 0 0,First,#,wezly_komunikacyjne,MATE_NAWIE,0,254;NAZWA_DROG \"NAZWA_DROG\" true true false 254 Text 0 0,First,#,wezly_komunikacyjne,NAZWA_DROG,0,254;LICZ_JEZDN \"LICZ_JEZDN\" true true false 8 Double 0 0,First,#,wezly_komunikacyjne,LICZ_JEZDN,-1,-1;POLOZENIE \"POLOZENIE\" true true false 254 Text 0 0,First,#,wezly_komunikacyjne,POLOZENIE,0,254;SZER_NAWIE \"SZER_NAWIE\" true true false 8 Double 0 0,First,#,wezly_komunikacyjne,SZER_NAWIE,-1,-1;NUMER_DROG \"NUMER_DROG\" true true false 254 Text 0 0,First,#,wezly_komunikacyjne,NUMER_DROG,0,254;TERYT_1 \"TERYT\" true true false 4 Text 0 0,First,#,drogi_wezlowe_selected,TERYT,0,4;LOKALNYID_1 \"LOKALNYID\" true true false 50 Text 0 0,First,#,drogi_wezlowe_selected,LOKALNYID,0,50;PRZES_NAZW_1 \"PRZES_NAZW\" true true false 25 Text 0 0,First,#,drogi_wezlowe_selected,PRZES_NAZW,0,25;WERSJA_1 \"WERSJA\" true true false 21 Text 0 0,First,#,drogi_wezlowe_selected,WERSJA,0,21;POCZ_WERSJ_1 \"POCZ_WERSJ\" true true false 21 Text 0 0,First,#,drogi_wezlowe_selected,POCZ_WERSJ,0,21;OZNA_ZMIAN_1 \"OZNA_ZMIAN\" true true false 254 Text 0 0,First,#,drogi_wezlowe_selected,OZNA_ZMIAN,0,254;ZRO_DANYCH_1 \"ZRO_DANYCH\" true true false 254 Text 0 0,First,#,drogi_wezlowe_selected,ZRO_DANYCH,0,254;KAT_ISTNIE_1 \"KAT_ISTNIE\" true true false 254 Text 0 0,First,#,drogi_wezlowe_selected,KAT_ISTNIE,0,254;UWAGI_1 \"UWAGI\" true true false 254 Text 0 0,First,#,drogi_wezlowe_selected,UWAGI,0,254;INFO_DODAT_1 \"INFO_DODAT\" true true false 254 Text 0 0,First,#,drogi_wezlowe_selected,INFO_DODAT,0,254;KOD10K_1 \"KOD10K\" true true false 254 Text 0 0,First,#,drogi_wezlowe_selected,KOD10K,0,254;SKROT_KART_1 \"SKROT_KART\" true true false 254 Text 0 0,First,#,drogi_wezlowe_selected,SKROT_KART,0,254;KAT_ZARZAD_1 \"KAT_ZARZAD\" true true false 254 Text 0 0,First,#,drogi_wezlowe_selected,KAT_ZARZAD,0,254;KLASA_DROG_1 \"KLASA_DROG\" true true false 254 Text 0 0,First,#,drogi_wezlowe_selected,KLASA_DROG,0,254;MATE_NAWIE_1 \"MATE_NAWIE\" true true false 254 Text 0 0,First,#,drogi_wezlowe_selected,MATE_NAWIE,0,254;NAZWA_DROG_1 \"NAZWA_DROG\" true true false 254 Text 0 0,First,#,drogi_wezlowe_selected,NAZWA_DROG,0,254;LICZ_JEZDN_1 \"LICZ_JEZDN\" true true false 8 Double 0 0,First,#,drogi_wezlowe_selected,LICZ_JEZDN,-1,-1;POLOZENIE_1 \"POLOZENIE\" true true false 254 Text 0 0,First,#,drogi_wezlowe_selected,POLOZENIE,0,254;SZER_NAWIE_1 \"SZER_NAWIE\" true true false 8 Double 0 0,First,#,drogi_wezlowe_selected,SZER_NAWIE,-1,-1;NUMER_DROG_1 \"NUMER_DROG\" true true false 254 Text 0 0,First,#,drogi_wezlowe_selected,NUMER_DROG,0,254;Shape_Length \"Shape_Length\" false true true 8 Double 0 0,First,#,drogi_wezlowe_selected,Shape_Length,-1,-1',\n",
    "#     match_option=\"INTERSECT\",\n",
    "#     search_radius=None,\n",
    "#     distance_field_name=\"\"\n",
    "# )\n",
    "# # Wyrażenie wyboru\n",
    "# zapytanie = '\"Join_Count\" > 2'\n",
    "\n",
    "# # Selekcja punktów\n",
    "# wezly_komunikacyjne = arcpy.management.SelectLayerByAttribute(\n",
    "#     punkty_przeciec_polaczenia,  # warstwa z policzonymi połączeniami\n",
    "#     \"NEW_SELECTION\",\n",
    "#     zapytanie\n",
    "# )\n",
    "# wezly_komunikacyjne_layer = r\"C:\\Users\\mplaciszewska\\Documents\\ArcGIS\\Projects\\projekt1-analizyp\\projekt1-analizyp.gdb\\wezly_komunikacyjne\"\n",
    "# arcpy.management.CopyFeatures(wezly_komunikacyjne, wezly_komunikacyjne_layer, '', None, None, None)\n",
    "# wezly_komunikacyjne_selected = 'wezly_komunikacyjne_selected'\n",
    "# arcpy.SelectLayerByAttribute_management(wezly_komunikacyjne, \"CLEAR_SELECTION\")\n",
    "\n",
    "# m.addDataFromPath(wezly_komunikacyjne_layer)\n",
    "\n",
    "# # przywrócenie maski\n",
    "# arcpy.env.mask = gmina_mask\n",
    "# arcpy.env.extent = gmina_extent\n",
    "\n",
    "kryterium_wezly = arcpy.sa.FuzzyMembership(distance_wezly, arcpy.sa.FuzzyLinear(distance_wezly.maximum, 200))\n",
    "kryterium_wezly.save(R\"C:\\Users\\mplaciszewska\\Documents\\ArcGIS\\Projects\\projekt1-analizyp\\projekt1-analizyp.gdb\\kryterium_wezly\")\n",
    "m.addDataFromPath(R\"C:\\Users\\mplaciszewska\\Documents\\ArcGIS\\Projects\\projekt1-analizyp\\projekt1-analizyp.gdb\\kryterium_wezly\")"
   ]
  },
  {
   "cell_type": "markdown",
   "metadata": {},
   "source": [
    "Wczytanie działek"
   ]
  },
  {
   "cell_type": "code",
   "execution_count": null,
   "metadata": {},
   "outputs": [],
   "source": []
  },
  {
   "cell_type": "code",
   "execution_count": null,
   "metadata": {},
   "outputs": [],
   "source": []
  }
 ],
 "metadata": {
  "kernelspec": {
   "display_name": "ArcGISPro",
   "language": "Python",
   "name": "python3"
  },
  "language_info": {
   "file_extension": ".py",
   "name": "python",
   "version": "3"
  }
 },
 "nbformat": 4,
 "nbformat_minor": 2
}
